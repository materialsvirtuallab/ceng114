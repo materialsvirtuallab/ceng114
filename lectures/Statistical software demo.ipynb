{
 "cells": [
  {
   "cell_type": "code",
   "execution_count": 1,
   "metadata": {
    "collapsed": true,
    "deletable": true,
    "editable": true
   },
   "outputs": [],
   "source": [
    "import pandas as pd\n",
    "import numpy as np\n",
    "from scipy import stats\n",
    "import matplotlib.pyplot as plt\n",
    "import seaborn as sns\n",
    "%matplotlib inline"
   ]
  },
  {
   "cell_type": "markdown",
   "metadata": {
    "deletable": true,
    "editable": true
   },
   "source": [
    "# Getting distribution values using scipy\n",
    "\n",
    "The scipy stats package contains a lot of useful distributions. Here, you can compute z and t statistics, etc. Normal distribution is given in scipy.stats.norm, while the t distribution is given as stats."
   ]
  },
  {
   "cell_type": "code",
   "execution_count": 17,
   "metadata": {
    "collapsed": false,
    "deletable": true,
    "editable": true
   },
   "outputs": [
    {
     "name": "stdout",
     "output_type": "stream",
     "text": [
      "P(X<120) where X ~ N(100, 10^2) = 0.977\n",
      "x for which P(X < x = 0.97) = 118.8\n"
     ]
    }
   ],
   "source": [
    "# Cumulative probability P(X<120) where X ~ N(100, 10^2)\n",
    "print(\"P(X<120) where X ~ N(100, 10^2) = %.3f\" % stats.norm.cdf(120, loc=100, scale=10))\n",
    "\n",
    "# Calculate value\n",
    "print(\"x for which P(X < x = 0.97) = %.1f\" % stats.norm.ppf(0.97, loc=100, scale=10))"
   ]
  },
  {
   "cell_type": "code",
   "execution_count": 18,
   "metadata": {
    "collapsed": false,
    "deletable": true,
    "editable": true
   },
   "outputs": [
    {
     "name": "stdout",
     "output_type": "stream",
     "text": [
      "P(X<120) where X ~ t with df = 10, mean = 100 and sigma = 10) = 0.963\n",
      "x for which P(X < x = 0.97) = 121.2\n"
     ]
    }
   ],
   "source": [
    "# Cumulative probability P(X<120) where X ~ N(100, 10^2)\n",
    "print(\"P(X<120) where X ~ t with df = 10, mean = 100 and sigma = 10) = %.3f\" % stats.t.cdf(120, df=10, loc=100, scale=10))\n",
    "\n",
    "# Calculate value\n",
    "print(\"x for which P(X < x = 0.97) = %.1f\" % stats.t.ppf(0.97, df=10, loc=100, scale=10))"
   ]
  },
  {
   "cell_type": "markdown",
   "metadata": {
    "deletable": true,
    "editable": true
   },
   "source": [
    "# Linear regression"
   ]
  },
  {
   "cell_type": "markdown",
   "metadata": {
    "deletable": true,
    "editable": true
   },
   "source": [
    "Let us first read the data from the csv file into a Pandas \"DataFrame\" using Pandas' built in parsers."
   ]
  },
  {
   "cell_type": "code",
   "execution_count": 2,
   "metadata": {
    "collapsed": false,
    "deletable": true,
    "editable": true
   },
   "outputs": [
    {
     "name": "stdout",
     "output_type": "stream",
     "text": [
      "    Year     CO2 ppm  Global Temp\n",
      "0   1965  320.044167          -10\n",
      "1   1966  321.383333           -4\n",
      "2   1967  322.157500           -1\n",
      "3   1968  323.045000           -5\n",
      "4   1969  324.624167            6\n",
      "5   1970  325.680000            4\n",
      "6   1971  326.320000           -7\n",
      "7   1972  327.453333            2\n",
      "8   1973  329.676667           15\n",
      "9   1974  330.176667           -7\n",
      "10  1975  295.202500           -1\n",
      "11  1976  332.053333          -12\n",
      "12  1977  333.781667           14\n",
      "13  1978  335.409167            5\n",
      "14  1979  336.781667           11\n",
      "15  1980  338.679167           22\n",
      "16  1981  340.100000           28\n",
      "17  1982  341.436667            9\n",
      "18  1983  343.025000           27\n",
      "19  1984  307.350000           11\n",
      "20  1985  346.041667            8\n",
      "21  1986  347.384167           14\n",
      "22  1987  349.160833           28\n",
      "23  1988  351.563333           35\n",
      "24  1989  353.067500           24\n",
      "25  1990  354.346667           39\n",
      "26  1991  355.566667           38\n",
      "27  1992  356.382500           19\n",
      "28  1993  357.067500           20\n",
      "29  1994  358.822500           28\n",
      "30  1995  360.795833           42\n",
      "31  1996  362.587500           32\n",
      "32  1997  363.705000           45\n",
      "33  1998  366.652500           61\n",
      "34  1999  368.325833           39\n",
      "35  2000  369.525000           40\n",
      "36  2001  371.130000           52\n",
      "37  2002  373.215000           60\n",
      "38  2003  375.774167           59\n",
      "39  2004  377.490833           51\n",
      "40  2005  379.800000           65\n",
      "41  2006  381.904167           59\n",
      "42  2007  383.764167           62\n",
      "43  2008  385.585833           49\n",
      "44  2009  387.366667           59\n",
      "45  2010  389.844167           66\n"
     ]
    }
   ],
   "source": [
    "df = pd.read_table(\"co2_temp_yr.csv\", delimiter=\",\")\n",
    "print(df)"
   ]
  },
  {
   "cell_type": "markdown",
   "metadata": {
    "deletable": true,
    "editable": true
   },
   "source": [
    "## Quick exploration\n",
    "\n",
    "The DataFrame contains a lot of useful convenience functions. For example, df.describe() gives you a quick summary of useful information! See more at http://pandas.pydata.org/pandas-docs/stable/10min.html."
   ]
  },
  {
   "cell_type": "code",
   "execution_count": 3,
   "metadata": {
    "collapsed": false,
    "deletable": true,
    "editable": true
   },
   "outputs": [
    {
     "data": {
      "text/html": [
       "<div>\n",
       "<table border=\"1\" class=\"dataframe\">\n",
       "  <thead>\n",
       "    <tr style=\"text-align: right;\">\n",
       "      <th></th>\n",
       "      <th>Year</th>\n",
       "      <th>CO2 ppm</th>\n",
       "      <th>Global Temp</th>\n",
       "    </tr>\n",
       "  </thead>\n",
       "  <tbody>\n",
       "    <tr>\n",
       "      <th>count</th>\n",
       "      <td>46.000000</td>\n",
       "      <td>46.000000</td>\n",
       "      <td>46.000000</td>\n",
       "    </tr>\n",
       "    <tr>\n",
       "      <th>mean</th>\n",
       "      <td>1987.500000</td>\n",
       "      <td>349.592391</td>\n",
       "      <td>26.108696</td>\n",
       "    </tr>\n",
       "    <tr>\n",
       "      <th>std</th>\n",
       "      <td>13.422618</td>\n",
       "      <td>23.034181</td>\n",
       "      <td>23.586463</td>\n",
       "    </tr>\n",
       "    <tr>\n",
       "      <th>min</th>\n",
       "      <td>1965.000000</td>\n",
       "      <td>295.202500</td>\n",
       "      <td>-12.000000</td>\n",
       "    </tr>\n",
       "    <tr>\n",
       "      <th>25%</th>\n",
       "      <td>1976.250000</td>\n",
       "      <td>330.645834</td>\n",
       "      <td>6.500000</td>\n",
       "    </tr>\n",
       "    <tr>\n",
       "      <th>50%</th>\n",
       "      <td>1987.500000</td>\n",
       "      <td>350.362083</td>\n",
       "      <td>25.500000</td>\n",
       "    </tr>\n",
       "    <tr>\n",
       "      <th>75%</th>\n",
       "      <td>1998.750000</td>\n",
       "      <td>367.907500</td>\n",
       "      <td>44.250000</td>\n",
       "    </tr>\n",
       "    <tr>\n",
       "      <th>max</th>\n",
       "      <td>2010.000000</td>\n",
       "      <td>389.844167</td>\n",
       "      <td>66.000000</td>\n",
       "    </tr>\n",
       "  </tbody>\n",
       "</table>\n",
       "</div>"
      ],
      "text/plain": [
       "              Year     CO2 ppm  Global Temp\n",
       "count    46.000000   46.000000    46.000000\n",
       "mean   1987.500000  349.592391    26.108696\n",
       "std      13.422618   23.034181    23.586463\n",
       "min    1965.000000  295.202500   -12.000000\n",
       "25%    1976.250000  330.645834     6.500000\n",
       "50%    1987.500000  350.362083    25.500000\n",
       "75%    1998.750000  367.907500    44.250000\n",
       "max    2010.000000  389.844167    66.000000"
      ]
     },
     "execution_count": 3,
     "metadata": {},
     "output_type": "execute_result"
    }
   ],
   "source": [
    "df.describe()"
   ]
  },
  {
   "cell_type": "markdown",
   "metadata": {
    "deletable": true,
    "editable": true
   },
   "source": [
    "You can also do quick plotting of the data. The results are not aesthetically the best, but it is useful for a quick visual of the data"
   ]
  },
  {
   "cell_type": "code",
   "execution_count": 4,
   "metadata": {
    "collapsed": false,
    "deletable": true,
    "editable": true
   },
   "outputs": [
    {
     "data": {
      "image/png": "[encoded data removed]",
      "text/plain": [
       "<matplotlib.figure.Figure at 0x10b6e3048>"
      ]
     },
     "metadata": {},
     "output_type": "display_data"
    }
   ],
   "source": [
    "ax = df.plot(x=\"CO2 ppm\", y=\"Global Temp\", style='o')"
   ]
  },
  {
   "cell_type": "markdown",
   "metadata": {
    "collapsed": true,
    "deletable": true,
    "editable": true
   },
   "source": [
    "Much nicer results can be obtained using a dedicated plotter like seaborn."
   ]
  },
  {
   "cell_type": "code",
   "execution_count": 5,
   "metadata": {
    "collapsed": false,
    "deletable": true,
    "editable": true
   },
   "outputs": [
    {
     "data": {
      "image/png": "[encoded data removed]",
      "text/plain": [
       "<matplotlib.figure.Figure at 0x10ea557b8>"
      ]
     },
     "metadata": {},
     "output_type": "display_data"
    }
   ],
   "source": [
    "ax = sns.regplot(x=\"CO2 ppm\", y=\"Global Temp\", data=df)"
   ]
  },
  {
   "cell_type": "markdown",
   "metadata": {
    "deletable": true,
    "editable": true
   },
   "source": [
    "## Performing the regression\n",
    "\n",
    "We will use scipy's built in regression analysis here. There are quite a number of options out there, e.g., statsmodels, scikit-learn, etc., that you can explore."
   ]
  },
  {
   "cell_type": "code",
   "execution_count": 6,
   "metadata": {
    "collapsed": false,
    "deletable": true,
    "editable": true
   },
   "outputs": [
    {
     "name": "stdout",
     "output_type": "stream",
     "text": [
      "Slope = 0.928\n",
      "Intercept = -298.244\n",
      "R = 0.906\n",
      "Std error = 0.065\n"
     ]
    }
   ],
   "source": [
    "res = stats.linregress(df[\"CO2 ppm\"], df[\"Global Temp\"])\n",
    "print(\"Slope = %.3f\" % res.slope)\n",
    "print(\"Intercept = %.3f\" % res.intercept)\n",
    "print(\"R = %.3f\" % res.rvalue)\n",
    "print(\"Std error = %.3f\" % res.stderr)"
   ]
  },
  {
   "cell_type": "markdown",
   "metadata": {
    "deletable": true,
    "editable": true
   },
   "source": [
    "# ANOVA anslysis\n",
    "\n",
    "We can also perform ANOVA analysis using pandas + scipy. Again, let us now read the polymer.csv data into a DataFrame."
   ]
  },
  {
   "cell_type": "code",
   "execution_count": 7,
   "metadata": {
    "collapsed": false,
    "deletable": true,
    "editable": true
   },
   "outputs": [
    {
     "name": "stdout",
     "output_type": "stream",
     "text": [
      "         0    1    2    3    4    5\n",
      "-1.00  8.2  8.0  8.2  7.9  8.1  8.0\n",
      "-0.75  8.3  8.4  8.3  8.2  8.3  8.1\n",
      "-0.50  8.9  8.7  8.9  8.4  8.3  8.5\n",
      " 0.00  8.5  8.7  8.7  8.7  8.8  8.8\n",
      " 0.50  8.8  9.1  9.0  8.7  8.9  8.5\n",
      " 1.00  8.6  8.5  8.6  8.7  8.8  8.8\n"
     ]
    }
   ],
   "source": [
    "df = pd.read_table(\"polymer.csv\", delimiter=\",\", index_col=0)\n",
    "print(df)"
   ]
  },
  {
   "cell_type": "markdown",
   "metadata": {
    "deletable": true,
    "editable": true
   },
   "source": [
    "Each row in the above data is one group."
   ]
  },
  {
   "cell_type": "code",
   "execution_count": 8,
   "metadata": {
    "collapsed": false,
    "deletable": true,
    "editable": true
   },
   "outputs": [
    {
     "name": "stdout",
     "output_type": "stream",
     "text": [
      "F_onewayResult(statistic=18.882352941176471, pvalue=1.8177090258544406e-08)\n"
     ]
    }
   ],
   "source": [
    "print(stats.f_oneway(*df.as_matrix()))"
   ]
  },
  {
   "cell_type": "code",
   "execution_count": null,
   "metadata": {
    "collapsed": false,
    "deletable": true,
    "editable": true
   },
   "outputs": [],
   "source": []
  },
  {
   "cell_type": "code",
   "execution_count": null,
   "metadata": {
    "collapsed": true,
    "deletable": true,
    "editable": true
   },
   "outputs": [],
   "source": []
  }
 ],
 "metadata": {
  "kernelspec": {
   "display_name": "Python 3",
   "language": "python",
   "name": "python3"
  },
  "language_info": {
   "codemirror_mode": {
    "name": "ipython",
    "version": 3
   },
   "file_extension": ".py",
   "mimetype": "text/x-python",
   "name": "python",
   "nbconvert_exporter": "python",
   "pygments_lexer": "ipython3",
   "version": "3.6.0"
  }
 },
 "nbformat": 4,
 "nbformat_minor": 2
}
