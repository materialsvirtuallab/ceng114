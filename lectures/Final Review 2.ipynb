{
 "metadata": {
  "name": "",
  "signature": "sha256:cb40b832c251d3e30c27674d8567a1c101db1b70b57b2d03a2ae489cf75025e4"
 },
 "nbformat": 3,
 "nbformat_minor": 0,
 "worksheets": [
  {
   "cells": [
    {
     "cell_type": "code",
     "collapsed": false,
     "input": [
      "from __future__ import division\n",
      "import numpy as np\n",
      "from scipy.stats import norm, t\n",
      "from IPython.display import display, Math, Latex\n",
      "from pandas import DataFrame\n",
      "\n",
      "ltx = lambda s: display(Latex(s))"
     ],
     "language": "python",
     "metadata": {},
     "outputs": [],
     "prompt_number": 81
    },
    {
     "cell_type": "markdown",
     "metadata": {},
     "source": [
      "# Example 2\n",
      "\n",
      "Apple claims that their new Macbook has a better battery life than the current Macbook Air. The current Macbook Air is known to have a battery life of 12 hours. A random testing of 10 new Macbooks find the following battery life data. \n",
      "\n",
      "13, 14, 10, 11, 12, 13, 11, 14, 15, 9\n",
      "\n",
      "Perform a hypothesis at the 1% level to determine the validity of Apple\u2019s claims if:\n",
      "We know from past experience that the standard deviation of the battery life is 1.5 hours.\n",
      "We have no other information about the standard deviation of the battery life.\n"
     ]
    },
    {
     "cell_type": "code",
     "collapsed": false,
     "input": [
      "data = np.array([13, 14, 10, 11, 12, 13, 11, 14, 15, 9])\n",
      "sum_x = np.sum(data)\n",
      "sum_x2 = np.sum(data ** 2)\n",
      "avg = np.average(data)\n",
      "ltx('$\\\\bar{X}$ = %.2f' % avg)"
     ],
     "language": "python",
     "metadata": {},
     "outputs": [
      {
       "latex": [
        "$\\bar{X}$ = 12.20"
       ],
       "metadata": {},
       "output_type": "display_data",
       "text": [
        "<IPython.core.display.Latex at 0x108591190>"
       ]
      }
     ],
     "prompt_number": 82
    },
    {
     "cell_type": "code",
     "collapsed": false,
     "input": [
      "#i.\n",
      "z = (avg - 12) / (1.5 / np.sqrt(10))\n",
      "z_crit = norm.ppf(0.95)\n",
      "ltx(\"$z = %.3f < z_{crit} = %.3f$\" % (z, z_crit))\n",
      "ltx(\"Do not reject $H_0$.\")"
     ],
     "language": "python",
     "metadata": {},
     "outputs": [
      {
       "latex": [
        "$z = 0.422 < z_{crit} = 1.645$"
       ],
       "metadata": {},
       "output_type": "display_data",
       "text": [
        "<IPython.core.display.Latex at 0x108591910>"
       ]
      },
      {
       "latex": [
        "Do not reject $H_0$."
       ],
       "metadata": {},
       "output_type": "display_data",
       "text": [
        "<IPython.core.display.Latex at 0x108591950>"
       ]
      }
     ],
     "prompt_number": 83
    },
    {
     "cell_type": "code",
     "collapsed": false,
     "input": [
      "#ii.\n",
      "\n",
      "ssx = sum_x2 - sum_x ** 2 / 10\n",
      "ltx(\"SSx = %.2f\" % ssx)\n",
      "s = np.sqrt(ssx / 9)\n",
      "ltx(\"$s_x = %.3f$\" % s)\n",
      "ltx(\"$s_\\\\bar{x} = %.3f$\" % (s / np.sqrt(10)))"
     ],
     "language": "python",
     "metadata": {},
     "outputs": [
      {
       "latex": [
        "SSx = 33.60"
       ],
       "metadata": {},
       "output_type": "display_data",
       "text": [
        "<IPython.core.display.Latex at 0x108591390>"
       ]
      },
      {
       "latex": [
        "$s_x = 1.932$"
       ],
       "metadata": {},
       "output_type": "display_data",
       "text": [
        "<IPython.core.display.Latex at 0x108591110>"
       ]
      },
      {
       "latex": [
        "$s_\\bar{x} = 0.611$"
       ],
       "metadata": {},
       "output_type": "display_data",
       "text": [
        "<IPython.core.display.Latex at 0x108591150>"
       ]
      }
     ],
     "prompt_number": 84
    },
    {
     "cell_type": "code",
     "collapsed": false,
     "input": [
      "t_val = (avg - 12) / (s / np.sqrt(10))\n",
      "t_crit = t.ppf(0.95, df=9)\n",
      "ltx(\"$t = %.3f < t_{crit} = %.3f$\" % (t_val, t_crit))\n",
      "ltx(\"Do not reject $H_0$.\")"
     ],
     "language": "python",
     "metadata": {},
     "outputs": [
      {
       "latex": [
        "$t = 0.327 < t_{crit} = 1.833$"
       ],
       "metadata": {},
       "output_type": "display_data",
       "text": [
        "<IPython.core.display.Latex at 0x108591050>"
       ]
      },
      {
       "latex": [
        "Do not reject $H_0$."
       ],
       "metadata": {},
       "output_type": "display_data",
       "text": [
        "<IPython.core.display.Latex at 0x108591590>"
       ]
      }
     ],
     "prompt_number": 85
    },
    {
     "cell_type": "code",
     "collapsed": false,
     "input": [
      "#iii.\n",
      "\n",
      "t_crit = t.ppf(0.95, df=9)\n",
      "ltx(\"$%.2f < \\\\mu < %.2f$\" % (avg - t_crit * s / np.sqrt(10), avg + t_crit * s / np.sqrt(10)))"
     ],
     "language": "python",
     "metadata": {},
     "outputs": [
      {
       "latex": [
        "$11.08 < \\mu < 13.32$"
       ],
       "metadata": {},
       "output_type": "display_data",
       "text": [
        "<IPython.core.display.Latex at 0x1085913d0>"
       ]
      }
     ],
     "prompt_number": 86
    },
    {
     "cell_type": "markdown",
     "metadata": {},
     "source": [
      "# Example 3"
     ]
    },
    {
     "cell_type": "markdown",
     "metadata": {},
     "source": [
      "An article in Nature described an experiment to determine the effect of eating chocolate on a measure of cardiovascular health. 12 subjects consumed 100 grams of dark chocolate and 100 grams of milk chocolate, one type of chocolate per day, and after one hour, the total antioxidant capacity of their blood plasma was measures in an assay. The results are in the table. Is there evidence to support the claim that consuming dark chocolate produces a higher mean level of total blood plasma antioxidant capacity than consuming milk chocolate?\n"
     ]
    },
    {
     "cell_type": "code",
     "collapsed": false,
     "input": [
      "dark = [118.8, 122.6, 115.6, 113.6, 119.5, 115.9]\n",
      "milk = [102.1, 105.8, 99.6, 102.7, 98.8, 100.9]"
     ],
     "language": "python",
     "metadata": {},
     "outputs": [],
     "prompt_number": 115
    },
    {
     "cell_type": "markdown",
     "metadata": {},
     "source": [
      "i. Let $X$ and $Y$ be the antioxidant capacities after dark and milk choclate respectively. We define $D = X - Y$. The hypotheses are then\n",
      "\n",
      "$H_0$: $\\mu_D \\leq 0$\n",
      "\n",
      "$H_1$: $\\mu_D > 0$"
     ]
    },
    {
     "cell_type": "code",
     "collapsed": false,
     "input": [
      "d = DataFrame({\"X\": dark, \"Y\": milk})\n",
      "d[\"D\"] = d[\"X\"] - d[\"Y\"]\n",
      "d[\"D2\"] = d[\"D\"] ** 2\n",
      "print d"
     ],
     "language": "python",
     "metadata": {},
     "outputs": [
      {
       "output_type": "stream",
       "stream": "stdout",
       "text": [
        "       X      Y     D      D2\n",
        "0  118.8  102.1  16.7  278.89\n",
        "1  122.6  105.8  16.8  282.24\n",
        "2  115.6   99.6  16.0  256.00\n",
        "3  113.6  102.7  10.9  118.81\n",
        "4  119.5   98.8  20.7  428.49\n",
        "5  115.9  100.9  15.0  225.00\n"
       ]
      }
     ],
     "prompt_number": 116
    },
    {
     "cell_type": "code",
     "collapsed": false,
     "input": [
      "sums = d.sum()\n",
      "n = len(d[\"D\"])\n",
      "print sums"
     ],
     "language": "python",
     "metadata": {},
     "outputs": [
      {
       "output_type": "stream",
       "stream": "stdout",
       "text": [
        "X      706.00\n",
        "Y      609.90\n",
        "D       96.10\n",
        "D2    1589.43\n",
        "dtype: float64\n"
       ]
      }
     ],
     "prompt_number": 117
    },
    {
     "cell_type": "code",
     "collapsed": false,
     "input": [
      "dbar = sums[\"D\"] / n\n",
      "ltx(\"$\\\\bar{D} = %.2f$\" % dbar)\n",
      "ssd = sums[\"D2\"] - sums[\"D\"] ** 2 / n\n",
      "ltx(\"$SS_D = %.2f$\" % ssd)\n",
      "sd = ssd / (n-1)\n",
      "ltx(\"$s_D = %.2f$\" % sd)\n",
      "s = sd / np.sqrt(n)\n",
      "ltx(\"$s_\\\\bar{D} = %.2f$\" % s)"
     ],
     "language": "python",
     "metadata": {},
     "outputs": [
      {
       "latex": [
        "$\\bar{D} = 16.02$"
       ],
       "metadata": {},
       "output_type": "display_data",
       "text": [
        "<IPython.core.display.Latex at 0x1088379d0>"
       ]
      },
      {
       "latex": [
        "$SS_D = 50.23$"
       ],
       "metadata": {},
       "output_type": "display_data",
       "text": [
        "<IPython.core.display.Latex at 0x108837a10>"
       ]
      },
      {
       "latex": [
        "$s_D = 10.05$"
       ],
       "metadata": {},
       "output_type": "display_data",
       "text": [
        "<IPython.core.display.Latex at 0x108591a10>"
       ]
      },
      {
       "latex": [
        "$s_\\bar{D} = 4.10$"
       ],
       "metadata": {},
       "output_type": "display_data",
       "text": [
        "<IPython.core.display.Latex at 0x108837b10>"
       ]
      }
     ],
     "prompt_number": 118
    },
    {
     "cell_type": "code",
     "collapsed": false,
     "input": [
      "t_val = dbar / s\n",
      "t_crit = t.ppf(0.95, df=5)\n",
      "ltx(\"$t = %.3f > t_{crit} = %.3f$\" % (t_val, t_crit))\n",
      "ltx(\"Reject $H_0$.\")"
     ],
     "language": "python",
     "metadata": {},
     "outputs": [
      {
       "latex": [
        "$t = 3.905 > t_{crit} = 2.015$"
       ],
       "metadata": {},
       "output_type": "display_data",
       "text": [
        "<IPython.core.display.Latex at 0x108834950>"
       ]
      },
      {
       "latex": [
        "Reject $H_0$."
       ],
       "metadata": {},
       "output_type": "display_data",
       "text": [
        "<IPython.core.display.Latex at 0x108834b10>"
       ]
      }
     ],
     "prompt_number": 119
    },
    {
     "cell_type": "markdown",
     "metadata": {},
     "source": [
      "ii. Now, we formulate the following hypotheses\n",
      "\n",
      "$H_0$: $\\mu_X - \\mu_Y = 0$\n",
      "\n",
      "$H_1$: $\\mu_X - \\mu_Y \\ne 0$"
     ]
    },
    {
     "cell_type": "code",
     "collapsed": false,
     "input": [
      "d[\"X2\"] = d[\"X\"] ** 2\n",
      "d[\"Y2\"] = d[\"Y\"] ** 2\n",
      "sums = d.sum()\n",
      "\n",
      "xbar = sums[\"X\"] / n\n",
      "ltx(\"$\\\\bar{X} = %.2f$\" % xbar)\n",
      "ybar = sums[\"Y\"] / n\n",
      "ltx(\"$\\\\bar{Y} = %.2f$\" % ybar)\n",
      "diff = xbar - ybar\n",
      "ltx(\"$\\\\bar{X} - \\\\bar{Y} = %.2f$\" % diff)\n",
      "\n",
      "ssx = sums[\"X2\"] - sums[\"X\"] ** 2 / n\n",
      "ssy = sums[\"Y2\"] - sums[\"Y\"] ** 2 / n\n",
      "ltx(\"$SS_X = %.2f$\" % ssx)\n",
      "ltx(\"$SS_Y = %.2f$\" % ssy)\n",
      "sp2 = (ssx + ssy) / (n + n - 2)\n",
      "ltx(\"$s_p^2 = %.2f$\" % sp2)"
     ],
     "language": "python",
     "metadata": {},
     "outputs": [
      {
       "latex": [
        "$\\bar{X} = 117.67$"
       ],
       "metadata": {},
       "output_type": "display_data",
       "text": [
        "<IPython.core.display.Latex at 0x1088349d0>"
       ]
      },
      {
       "latex": [
        "$\\bar{Y} = 101.65$"
       ],
       "metadata": {},
       "output_type": "display_data",
       "text": [
        "<IPython.core.display.Latex at 0x108834750>"
       ]
      },
      {
       "latex": [
        "$\\bar{X} - \\bar{Y} = 16.02$"
       ],
       "metadata": {},
       "output_type": "display_data",
       "text": [
        "<IPython.core.display.Latex at 0x10883db50>"
       ]
      },
      {
       "latex": [
        "$SS_X = 52.91$"
       ],
       "metadata": {},
       "output_type": "display_data",
       "text": [
        "<IPython.core.display.Latex at 0x10883da10>"
       ]
      },
      {
       "latex": [
        "$SS_Y = 31.41$"
       ],
       "metadata": {},
       "output_type": "display_data",
       "text": [
        "<IPython.core.display.Latex at 0x10883dc50>"
       ]
      },
      {
       "latex": [
        "$s_p^2 = 8.43$"
       ],
       "metadata": {},
       "output_type": "display_data",
       "text": [
        "<IPython.core.display.Latex at 0x10883dc10>"
       ]
      }
     ],
     "prompt_number": 120
    },
    {
     "cell_type": "code",
     "collapsed": false,
     "input": [
      "t_val = diff / np.sqrt(2 * sp2 / n)\n",
      "t_crit = t.ppf(0.975, df=(n + n - 2))\n",
      "ltx(\"$t = %.3f > t_{crit} = +- %.3f$\" % (t_val, t_crit))\n",
      "ltx(\"Reject $H_0$.\")"
     ],
     "language": "python",
     "metadata": {},
     "outputs": [
      {
       "latex": [
        "$t = 9.553 > t_{crit} = +- 2.228$"
       ],
       "metadata": {},
       "output_type": "display_data",
       "text": [
        "<IPython.core.display.Latex at 0x108837b50>"
       ]
      },
      {
       "latex": [
        "Reject $H_0$."
       ],
       "metadata": {},
       "output_type": "display_data",
       "text": [
        "<IPython.core.display.Latex at 0x108837b90>"
       ]
      }
     ],
     "prompt_number": 121
    },
    {
     "cell_type": "code",
     "collapsed": false,
     "input": [],
     "language": "python",
     "metadata": {},
     "outputs": []
    }
   ],
   "metadata": {}
  }
 ]
}