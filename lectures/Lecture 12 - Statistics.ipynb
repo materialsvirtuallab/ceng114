{
 "metadata": {
  "name": "",
  "signature": "sha256:a186e421c89efce09b10891665419a402f2066158382ddb51f85c2fbb5ab92f0"
 },
 "nbformat": 3,
 "nbformat_minor": 0,
 "worksheets": [
  {
   "cells": [
    {
     "cell_type": "code",
     "collapsed": false,
     "input": [
      "from IPython.display import HTML\n",
      "\n",
      "HTML('''<script>\n",
      "code_show=true; \n",
      "function code_toggle() {\n",
      " if (code_show){\n",
      " $('div.input').hide();\n",
      " } else {\n",
      " $('div.input').show();\n",
      " }\n",
      " code_show = !code_show\n",
      "} \n",
      "$( document ).ready(code_toggle);\n",
      "</script>\n",
      "<form action=\"javascript:code_toggle()\"><input type=\"submit\" value=\"Click here to toggle on/off the raw code.\"></form>''')\n",
      "\n"
     ],
     "language": "python",
     "metadata": {},
     "outputs": [
      {
       "html": [
        "<script>\n",
        "code_show=true; \n",
        "function code_toggle() {\n",
        " if (code_show){\n",
        " $('div.input').hide();\n",
        " } else {\n",
        " $('div.input').show();\n",
        " }\n",
        " code_show = !code_show\n",
        "} \n",
        "$( document ).ready(code_toggle);\n",
        "</script>\n",
        "<form action=\"javascript:code_toggle()\"><input type=\"submit\" value=\"Click here to toggle on/off the raw code.\"></form>"
       ],
       "metadata": {},
       "output_type": "pyout",
       "prompt_number": 1,
       "text": [
        "<IPython.core.display.HTML at 0x1044ee890>"
       ]
      }
     ],
     "prompt_number": 1
    },
    {
     "cell_type": "markdown",
     "metadata": {},
     "source": [
      "# Introduction\n",
      "\n",
      "This notebook generates the various data representations in lecture 12. It is easy to generalize this to other applications."
     ]
    },
    {
     "cell_type": "code",
     "collapsed": false,
     "input": [
      "from __future__ import division\n",
      "import matplotlib.pyplot as plt\n",
      "import matplotlib as mpl\n",
      "import prettyplotlib as ppl\n",
      "import brewer2mpl\n",
      "import numpy as np\n",
      "import math\n",
      "\n",
      "%matplotlib inline\n",
      "\n",
      "# Here, we customize the various matplotlib parameters for font sizes and define a color scheme.\n",
      "# As mentioned in the lecture, the typical defaults in most software are not optimal from a\n",
      "# data presentation point of view. You need to work hard at selecting these parameters to ensure\n",
      "# an effective data presentation.\n",
      "colors = brewer2mpl.get_map('Set1', 'qualitative', 4).mpl_colors\n",
      "mpl.rcParams['lines.linewidth'] = 2\n",
      "mpl.rcParams['lines.color'] = 'r'\n",
      "mpl.rcParams['axes.titlesize'] = 32\n",
      "mpl.rcParams['axes.labelsize'] = 30\n",
      "mpl.rcParams['axes.labelsize'] = 30 \n",
      "mpl.rcParams['xtick.labelsize'] = 24\n",
      "mpl.rcParams['ytick.labelsize'] = 24 \n",
      "\n",
      "\n",
      "data = \"\"\"105 221 183 186 121 181 180 143\n",
      "97  154 153 174 120 168 167 141\n",
      "245 228 174 199 181 158 176 110\n",
      "163 131 154 115 160 208 158 133\n",
      "207 180 190 193 194 133 156 123\n",
      "134 178 76  167 184 135 229 146\n",
      "218 157 101 171 165 172 158 169\n",
      "199 151 142 163 145 171 148 158\n",
      "160 175 149 87  160 237 150 135\n",
      "196 201 200 176 150 170 118 149\"\"\"\n",
      "\n",
      "data = [[int(x) for x in d.split()] for d in data.split(\"\\n\")]\n",
      "d = np.array(data).flatten()"
     ],
     "language": "python",
     "metadata": {},
     "outputs": [],
     "prompt_number": 1
    },
    {
     "cell_type": "code",
     "collapsed": false,
     "input": [
      "min_val = d.min()\n",
      "max_val = d.max()\n",
      "start_val = math.floor(min_val / 10) * 10\n",
      "mean = np.average(d)\n",
      "median = np.median(d)\n",
      "print min_val, max_val\n",
      "print mean \n",
      "print median\n",
      "print np.sqrt(np.var(d))"
     ],
     "language": "python",
     "metadata": {},
     "outputs": [
      {
       "output_type": "stream",
       "stream": "stdout",
       "text": [
        "76 245\n",
        "162.6625\n",
        "161.5\n",
        "33.5614897427\n"
       ]
      }
     ],
     "prompt_number": 3
    },
    {
     "cell_type": "code",
     "collapsed": false,
     "input": [
      "freq, bins = np.histogram(d, bins=np.arange(70, 260, 20))\n",
      "plt.figure(figsize=(12,8))\n",
      "bins = np.arange(70, 260, 20)\n",
      "ppl.hist(np.array(d), bins=bins)\n",
      "plt.xticks(bins + 10, [\"%d-%d\" % (bins[i], bins[i+1]) for i in xrange(len(bins) - 1)], rotation=-45)\n",
      "plt.ylabel(\"f\")\n",
      "plt.xlabel(\"Compressive strength (psi)\")"
     ],
     "language": "python",
     "metadata": {},
     "outputs": [
      {
       "metadata": {},
       "output_type": "pyout",
       "prompt_number": 18,
       "text": [
        "<matplotlib.text.Text at 0x10a6409d0>"
       ]
      },
      {
       "metadata": {},
       "output_type": "display_data",
       "png": "[encoded data removed]",
       "text": [
        "<matplotlib.figure.Figure at 0x10a63dc50>"
       ]
      }
     ],
     "prompt_number": 18
    },
    {
     "cell_type": "markdown",
     "metadata": {},
     "source": [
      "# Stem and leaf\n",
      "\n",
      "The code below shows how to generate a stem and leaf display."
     ]
    },
    {
     "cell_type": "code",
     "collapsed": false,
     "input": [
      "from collections import defaultdict\n",
      "\n",
      "def generate_stem_and_leaf(data):\n",
      "    stem_and_leaf = defaultdict(list)\n",
      "    for i in data:\n",
      "        k = int(math.floor(i / 10))\n",
      "        v = int(i % 10)\n",
      "        stem_and_leaf[k].append(v)\n",
      "    for k in sorted(stem_and_leaf.keys()):\n",
      "        print \"%02d | %s\" % (k, \" \".join([\"%d\" % i for i in stem_and_leaf[k]]))"
     ],
     "language": "python",
     "metadata": {},
     "outputs": [],
     "prompt_number": 28
    },
    {
     "cell_type": "code",
     "collapsed": false,
     "input": [
      "generate_stem_and_leaf(d)"
     ],
     "language": "python",
     "metadata": {},
     "outputs": [
      {
       "output_type": "stream",
       "stream": "stdout",
       "text": [
        "07 | 6\n",
        "08 | 7\n",
        "09 | 7\n",
        "10 | 5 1\n",
        "11 | 0 5 8\n",
        "12 | 1 0 3\n",
        "13 | 1 3 3 4 5 5\n",
        "14 | 3 1 6 2 5 8 9 9\n",
        "15 | 4 3 8 4 8 6 7 8 1 8 0 0\n",
        "16 | 8 7 3 0 7 5 9 3 0 0\n",
        "17 | 4 4 6 8 1 2 1 5 6 0\n",
        "18 | 3 6 1 0 1 0 4\n",
        "19 | 9 0 3 4 9 6\n",
        "20 | 8 7 1 0\n",
        "21 | 8\n",
        "22 | 1 8 9\n",
        "23 | 7\n",
        "24 | 5\n"
       ]
      }
     ],
     "prompt_number": 29
    },
    {
     "cell_type": "code",
     "collapsed": false,
     "input": [],
     "language": "python",
     "metadata": {},
     "outputs": []
    }
   ],
   "metadata": {}
  }
 ]
}